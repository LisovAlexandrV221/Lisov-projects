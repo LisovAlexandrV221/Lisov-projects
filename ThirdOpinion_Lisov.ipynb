{
 "cells": [
  {
   "cell_type": "code",
   "execution_count": 69,
   "metadata": {
    "id": "ZiVuVLppl0v5"
   },
   "outputs": [],
   "source": [
    "  # Импортирование необходимых библиотек\n",
    "  import pandas as pd\n",
    "  import numpy as np\n",
    "  import seaborn as sns\n",
    "  import sklearn\n",
    "  import matplotlib.pyplot as plt"
   ]
  },
  {
   "cell_type": "code",
   "execution_count": 70,
   "metadata": {
    "colab": {
     "base_uri": "https://localhost:8080/"
    },
    "id": "cRex-8CeoGP3",
    "outputId": "c0b0c4c7-2966-452e-bb04-94a8c3128081"
   },
   "outputs": [
    {
     "name": "stdout",
     "output_type": "stream",
     "text": [
      "     ID Файла  Врач№1  Врач№2  Врач№3  Врач№4  Врач№5  Врач№6  Врач№7  Врач№8  \\\n",
      "0           0       1       1       0       1       1       1       0       0   \n",
      "1           1       0       0       0       0       1       1       0       0   \n",
      "2           2       0       1       0       1       0       0       0       0   \n",
      "3           3       0       1       0       1       0       1       0       0   \n",
      "4           4       0       0       0       0       0       0       0       0   \n",
      "..        ...     ...     ...     ...     ...     ...     ...     ...     ...   \n",
      "472       472       0       0       0       0       0       1       0       0   \n",
      "473       473       1       1       0       1       1       0       0       0   \n",
      "474       474       0       1       0       1       0       0       0       0   \n",
      "475       475       1       1       0       1       0       1       1       1   \n",
      "476       476       1       1       1       1       1       1       1       1   \n",
      "\n",
      "     Врач№9  Врач№10  Врач№11  Врач№12  Врач№13  Врач№14  Врач№15  \n",
      "0         1        1        0        1        1        1        1  \n",
      "1         0        0        0        0        0        0        0  \n",
      "2         0        0        0        0        1        1        1  \n",
      "3         0        0        0        0        1        1        1  \n",
      "4         0        0        0        0        0        0        0  \n",
      "..      ...      ...      ...      ...      ...      ...      ...  \n",
      "472       0        0        0        0        0        0        0  \n",
      "473       0        0        1        1        0        1        1  \n",
      "474       0        0        1        1        0        1        1  \n",
      "475       1        1        1        1        0        1        1  \n",
      "476       1        1        1        1        1        1        1  \n",
      "\n",
      "[477 rows x 16 columns]\n"
     ]
    }
   ],
   "source": [
    "gidro = pd.read_csv('Гидроторакс.csv')\n",
    "print(gidro)"
   ]
  },
  {
   "cell_type": "code",
   "execution_count": 71,
   "metadata": {
    "colab": {
     "base_uri": "https://localhost:8080/"
    },
    "id": "dVEjB_GLt6qU",
    "outputId": "f03228c5-bd48-4968-d93d-d5d416b33e16"
   },
   "outputs": [
    {
     "data": {
      "text/plain": [
       "False"
      ]
     },
     "execution_count": 71,
     "metadata": {},
     "output_type": "execute_result"
    }
   ],
   "source": [
    "# Проверка на наличие NaN\n",
    "gidro.isna().any().any()"
   ]
  },
  {
   "cell_type": "code",
   "execution_count": 72,
   "metadata": {
    "id": "_meKL6D8uH8r"
   },
   "outputs": [],
   "source": [
    "# Удаление лишней колонки, не содержащей полезных данных для анализа\n",
    "gidro = gidro.drop('ID Файла', axis=1)"
   ]
  },
  {
   "cell_type": "code",
   "execution_count": 73,
   "metadata": {
    "id": "qiXjI8brumlL"
   },
   "outputs": [],
   "source": [
    "# Аналогично обрабатываем данные по остальным датасетам"
   ]
  },
  {
   "cell_type": "code",
   "execution_count": 74,
   "metadata": {
    "colab": {
     "base_uri": "https://localhost:8080/"
    },
    "id": "K4DToELgusqz",
    "outputId": "3360799b-75cb-4397-f465-83314bbd50e9"
   },
   "outputs": [
    {
     "name": "stdout",
     "output_type": "stream",
     "text": [
      "     ID Файла  Врач№1  Врач№2  Врач№3  Врач№4  Врач№5  Врач№6  Врач№7  Врач№8  \\\n",
      "0           0       0       0       0       0       0       0       1       0   \n",
      "1           1       0       0       0       0       0       0       0       0   \n",
      "2           2       0       0       0       0       1       0       0       0   \n",
      "3           3       0       0       0       0       0       0       0       0   \n",
      "4           4       0       0       0       0       0       0       1       1   \n",
      "..        ...     ...     ...     ...     ...     ...     ...     ...     ...   \n",
      "472       472       0       0       0       0       0       0       0       0   \n",
      "473       473       0       1       0       1       0       0       0       0   \n",
      "474       474       0       0       0       0       0       0       0       0   \n",
      "475       475       0       0       0       0       0       0       0       0   \n",
      "476       476       0       0       0       1       0       0       0       0   \n",
      "\n",
      "     Врач№9  Врач№10  Врач№11  Врач№12  Врач№13  Врач№14  Врач№15  \n",
      "0         0        0        1        0        0        0        0  \n",
      "1         0        0        0        0        0        0        0  \n",
      "2         0        0        0        0        0        0        0  \n",
      "3         0        0        0        0        0        0        0  \n",
      "4         0        0        0        0        0        0        1  \n",
      "..      ...      ...      ...      ...      ...      ...      ...  \n",
      "472       0        0        0        0        0        0        0  \n",
      "473       0        1        0        1        0        0        0  \n",
      "474       0        0        0        0        0        0        0  \n",
      "475       0        0        0        0        0        0        0  \n",
      "476       0        0        0        0        0        0        0  \n",
      "\n",
      "[477 rows x 16 columns]\n"
     ]
    }
   ],
   "source": [
    "ochag = pd.read_csv('Очаг.csv')\n",
    "print(ochag)"
   ]
  },
  {
   "cell_type": "code",
   "execution_count": 75,
   "metadata": {
    "colab": {
     "base_uri": "https://localhost:8080/"
    },
    "id": "4C8OJCxNu4cL",
    "outputId": "5e3334e4-b526-496a-fe1d-1d59b945222f"
   },
   "outputs": [
    {
     "data": {
      "text/plain": [
       "False"
      ]
     },
     "execution_count": 75,
     "metadata": {},
     "output_type": "execute_result"
    }
   ],
   "source": [
    "ochag.isna().any().any()"
   ]
  },
  {
   "cell_type": "code",
   "execution_count": 76,
   "metadata": {
    "id": "FBD58eAYu-38"
   },
   "outputs": [],
   "source": [
    "# Удаление лишней колонки, не содержащей полезных данных для анализа\n",
    "ochag = ochag.drop('ID Файла', axis=1)"
   ]
  },
  {
   "cell_type": "code",
   "execution_count": 77,
   "metadata": {
    "colab": {
     "base_uri": "https://localhost:8080/"
    },
    "id": "Pn-lzLGFvCbQ",
    "outputId": "b6ea5680-0760-40f5-c3c8-28d8d6fb9c3c"
   },
   "outputs": [
    {
     "name": "stdout",
     "output_type": "stream",
     "text": [
      "     Врач№1  Врач№2  Врач№3  Врач№4  Врач№5  Врач№6  Врач№7  Врач№8  Врач№9  \\\n",
      "0         0       0       0       0       0       0       1       0       0   \n",
      "1         0       0       0       0       0       0       0       0       0   \n",
      "2         0       0       0       0       1       0       0       0       0   \n",
      "3         0       0       0       0       0       0       0       0       0   \n",
      "4         0       0       0       0       0       0       1       1       0   \n",
      "..      ...     ...     ...     ...     ...     ...     ...     ...     ...   \n",
      "472       0       0       0       0       0       0       0       0       0   \n",
      "473       0       1       0       1       0       0       0       0       0   \n",
      "474       0       0       0       0       0       0       0       0       0   \n",
      "475       0       0       0       0       0       0       0       0       0   \n",
      "476       0       0       0       1       0       0       0       0       0   \n",
      "\n",
      "     Врач№10  Врач№11  Врач№12  Врач№13  Врач№14  Врач№15  \n",
      "0          0        1        0        0        0        0  \n",
      "1          0        0        0        0        0        0  \n",
      "2          0        0        0        0        0        0  \n",
      "3          0        0        0        0        0        0  \n",
      "4          0        0        0        0        0        1  \n",
      "..       ...      ...      ...      ...      ...      ...  \n",
      "472        0        0        0        0        0        0  \n",
      "473        1        0        1        0        0        0  \n",
      "474        0        0        0        0        0        0  \n",
      "475        0        0        0        0        0        0  \n",
      "476        0        0        0        0        0        0  \n",
      "\n",
      "[477 rows x 15 columns]\n"
     ]
    }
   ],
   "source": [
    "print(ochag)"
   ]
  },
  {
   "cell_type": "code",
   "execution_count": 78,
   "metadata": {
    "colab": {
     "base_uri": "https://localhost:8080/"
    },
    "id": "N_Q61GN_vJdm",
    "outputId": "7b2a0e15-df06-45d7-ba27-82a34d44ffac"
   },
   "outputs": [
    {
     "name": "stdout",
     "output_type": "stream",
     "text": [
      "     ID Файла  Врач№1  Врач№2  Врач№3  Врач№4  Врач№5  Врач№6  Врач№7  Врач№8  \\\n",
      "0           0       0       0       0       0       1       0       0       0   \n",
      "1           1       0       0       0       0       1       0       0       0   \n",
      "2           2       1       0       0       0       0       0       0       0   \n",
      "3           3       0       0       0       0       0       0       0       0   \n",
      "4           4       0       0       0       0       1       0       0       0   \n",
      "..        ...     ...     ...     ...     ...     ...     ...     ...     ...   \n",
      "472       472       0       0       0       0       0       1       0       1   \n",
      "473       473       0       0       0       0       0       0       0       0   \n",
      "474       474       0       0       0       0       0       0       0       0   \n",
      "475       475       0       0       0       0       0       0       0       0   \n",
      "476       476       0       0       0       0       0       0       0       1   \n",
      "\n",
      "     Врач№9  Врач№10  Врач№11  Врач№12  Врач№13  Врач№14  Врач№15  \n",
      "0         1        0        1        0        0        1        0  \n",
      "1         0        0        0        0        0        0        0  \n",
      "2         0        0        0        0        0        0        0  \n",
      "3         0        0        0        0        0        0        0  \n",
      "4         1        0        0        1        0        0        0  \n",
      "..      ...      ...      ...      ...      ...      ...      ...  \n",
      "472       0        0        0        0        0        0        0  \n",
      "473       0        1        0        1        1        0        0  \n",
      "474       0        0        0        0        0        0        0  \n",
      "475       0        0        0        0        0        0        0  \n",
      "476       0        1        0        0        0        0        0  \n",
      "\n",
      "[477 rows x 16 columns]\n"
     ]
    }
   ],
   "source": [
    "pnev = pd.read_csv('Снижение пневматизации.csv')\n",
    "print(pnev)"
   ]
  },
  {
   "cell_type": "code",
   "execution_count": 79,
   "metadata": {
    "colab": {
     "base_uri": "https://localhost:8080/"
    },
    "id": "tfj5SGx2vXPL",
    "outputId": "aae03e41-cab2-4e62-eb14-79b6cd9d8d1a"
   },
   "outputs": [
    {
     "data": {
      "text/plain": [
       "False"
      ]
     },
     "execution_count": 79,
     "metadata": {},
     "output_type": "execute_result"
    }
   ],
   "source": [
    "pnev.isna().any().any()"
   ]
  },
  {
   "cell_type": "code",
   "execution_count": 80,
   "metadata": {
    "id": "p2FiIWQIvZ2f"
   },
   "outputs": [],
   "source": [
    "# Удаление лишней колонки, не содержащей полезных данных для анализа\n",
    "pnev = pnev.drop('ID Файла', axis=1)"
   ]
  },
  {
   "cell_type": "code",
   "execution_count": 81,
   "metadata": {
    "colab": {
     "base_uri": "https://localhost:8080/"
    },
    "id": "PI_8VUfQvesh",
    "outputId": "f19872ca-176b-4aa8-8baa-7bce45e63ced"
   },
   "outputs": [
    {
     "name": "stdout",
     "output_type": "stream",
     "text": [
      "     Врач№1  Врач№2  Врач№3  Врач№4  Врач№5  Врач№6  Врач№7  Врач№8  Врач№9  \\\n",
      "0         0       0       0       0       1       0       0       0       1   \n",
      "1         0       0       0       0       1       0       0       0       0   \n",
      "2         1       0       0       0       0       0       0       0       0   \n",
      "3         0       0       0       0       0       0       0       0       0   \n",
      "4         0       0       0       0       1       0       0       0       1   \n",
      "..      ...     ...     ...     ...     ...     ...     ...     ...     ...   \n",
      "472       0       0       0       0       0       1       0       1       0   \n",
      "473       0       0       0       0       0       0       0       0       0   \n",
      "474       0       0       0       0       0       0       0       0       0   \n",
      "475       0       0       0       0       0       0       0       0       0   \n",
      "476       0       0       0       0       0       0       0       1       0   \n",
      "\n",
      "     Врач№10  Врач№11  Врач№12  Врач№13  Врач№14  Врач№15  \n",
      "0          0        1        0        0        1        0  \n",
      "1          0        0        0        0        0        0  \n",
      "2          0        0        0        0        0        0  \n",
      "3          0        0        0        0        0        0  \n",
      "4          0        0        1        0        0        0  \n",
      "..       ...      ...      ...      ...      ...      ...  \n",
      "472        0        0        0        0        0        0  \n",
      "473        1        0        1        1        0        0  \n",
      "474        0        0        0        0        0        0  \n",
      "475        0        0        0        0        0        0  \n",
      "476        1        0        0        0        0        0  \n",
      "\n",
      "[477 rows x 15 columns]\n"
     ]
    }
   ],
   "source": [
    "print(pnev)"
   ]
  },
  {
   "cell_type": "markdown",
   "metadata": {
    "id": "zUgtmna9nHAd"
   },
   "source": [
    "### Что необходимо сделать\n"
   ]
  },
  {
   "cell_type": "markdown",
   "metadata": {
    "id": "I3a3kIxanJ5R"
   },
   "source": [
    "1. Оценить качество разметки каждого врача по каждой патологии. Построить графики хорошо отображающие информацию по качеству разметки каждого врача. **Подсказка:** качество можно сравнивать как среднее отклонение от усредненной по всем врачам разметке или как среднюю ковариацию со всеми другими врачами, можно придумать и другие способы\n"
   ]
  },
  {
   "cell_type": "code",
   "execution_count": 82,
   "metadata": {
    "id": "wz6O7AeNvnA4"
   },
   "outputs": [],
   "source": [
    "#Добавим столбец с усредненным по всем врачам значением строки\n",
    "gidro['mean_value'] = gidro.mean(axis = 1)\n",
    "ochag['mean_value'] = ochag.mean(axis = 1)\n",
    "pnev['mean_value'] = pnev.mean(axis = 1)"
   ]
  },
  {
   "cell_type": "code",
   "execution_count": 83,
   "metadata": {
    "id": "Em4UxSxrx7ik"
   },
   "outputs": [],
   "source": [
    "#Выделяем целевую переменную - найденное среднее значение\n",
    "mean_gidro = gidro['mean_value']\n",
    "mean_ochag = ochag['mean_value']\n",
    "mean_pnev = pnev['mean_value']"
   ]
  },
  {
   "cell_type": "code",
   "execution_count": 84,
   "metadata": {
    "id": "e7RxqTB6ySQk"
   },
   "outputs": [],
   "source": [
    "# Вычисление среднего отклонения для каждого столбца от целевой переменной\n",
    "mean_deviation_gidro = gidro.drop(columns='mean_value').sub(mean_gidro, axis=0).abs().mean()\n",
    "mean_deviation_ochag = ochag.drop(columns='mean_value').sub(mean_ochag, axis=0).abs().mean()\n",
    "mean_deviation_pnev = pnev.drop(columns='mean_value').sub(mean_pnev, axis=0).abs().mean()"
   ]
  },
  {
   "cell_type": "code",
   "execution_count": 85,
   "metadata": {
    "colab": {
     "base_uri": "https://localhost:8080/"
    },
    "id": "OTgeT3zzyyNk",
    "outputId": "bceca372-9648-4345-b0bd-475a5a3655f9"
   },
   "outputs": [
    {
     "name": "stdout",
     "output_type": "stream",
     "text": [
      "Врач№1     0.108036\n",
      "Врач№2     0.147869\n",
      "Врач№3     0.121733\n",
      "Врач№4     0.112928\n",
      "Врач№5     0.149266\n",
      "Врач№6     0.206848\n",
      "Врач№7     0.118099\n",
      "Врач№8     0.132914\n",
      "Врач№9     0.124808\n",
      "Врач№10    0.110832\n",
      "Врач№11    0.111391\n",
      "Врач№12    0.100629\n",
      "Врач№13    0.104403\n",
      "Врач№14    0.101468\n",
      "Врач№15    0.116003\n",
      "dtype: float64\n"
     ]
    }
   ],
   "source": [
    "print(mean_deviation_gidro)"
   ]
  },
  {
   "cell_type": "code",
   "execution_count": 86,
   "metadata": {
    "colab": {
     "base_uri": "https://localhost:8080/"
    },
    "id": "W0jGaJYozH5W",
    "outputId": "d14928e6-ed07-45d6-90f7-66b64c83d328"
   },
   "outputs": [
    {
     "name": "stdout",
     "output_type": "stream",
     "text": [
      "Врач№1     0.117540\n",
      "Врач№2     0.211880\n",
      "Врач№3     0.106918\n",
      "Врач№4     0.144095\n",
      "Врач№5     0.116841\n",
      "Врач№6     0.168553\n",
      "Врач№7     0.153878\n",
      "Врач№8     0.145073\n",
      "Врач№9     0.116143\n",
      "Врач№10    0.121454\n",
      "Врач№11    0.122991\n",
      "Врач№12    0.140741\n",
      "Врач№13    0.110552\n",
      "Врач№14    0.124948\n",
      "Врач№15    0.245702\n",
      "dtype: float64\n"
     ]
    }
   ],
   "source": [
    "print(mean_deviation_ochag)"
   ]
  },
  {
   "cell_type": "code",
   "execution_count": 87,
   "metadata": {
    "colab": {
     "base_uri": "https://localhost:8080/"
    },
    "id": "p9oEcZy5zKgr",
    "outputId": "35794a7e-5c17-481d-aa08-b88f8da4f3f4"
   },
   "outputs": [
    {
     "name": "stdout",
     "output_type": "stream",
     "text": [
      "Врач№1     0.147449\n",
      "Врач№2     0.144514\n",
      "Врач№3     0.152621\n",
      "Врач№4     0.151922\n",
      "Врач№5     0.150524\n",
      "Врач№6     0.187002\n",
      "Врач№7     0.159469\n",
      "Врач№8     0.192034\n",
      "Врач№9     0.150105\n",
      "Врач№10    0.163662\n",
      "Врач№11    0.190077\n",
      "Врач№12    0.210762\n",
      "Врач№13    0.177079\n",
      "Врач№14    0.168693\n",
      "Врач№15    0.144095\n",
      "dtype: float64\n"
     ]
    }
   ],
   "source": [
    "print(mean_deviation_pnev)"
   ]
  },
  {
   "cell_type": "code",
   "execution_count": 88,
   "metadata": {
    "colab": {
     "base_uri": "https://localhost:8080/",
     "height": 495
    },
    "id": "eqzdmYaH1WL3",
    "outputId": "e8e8bee6-7a25-4189-a200-e148c00f87b2"
   },
   "outputs": [
    {
     "data": {
      "image/png": "[encoded data removed]",
      "text/plain": [
       "<Figure size 2000x800 with 1 Axes>"
      ]
     },
     "metadata": {},
     "output_type": "display_data"
    }
   ],
   "source": [
    "#Построим столбчатую диаграмму для каждого врача по всем трем диагнозам\n",
    "\n",
    "features = gidro.drop(columns='mean_value').columns\n",
    "width = 0.25\n",
    "\n",
    "series1 = pd.Series(mean_deviation_gidro)\n",
    "series2 = pd.Series(mean_deviation_ochag)\n",
    "series3 = pd.Series(mean_deviation_pnev)\n",
    "\n",
    "fig, ax = plt.subplots(figsize=(20, 8))\n",
    "\n",
    "x = range(len(features))\n",
    "bar1 = ax.bar([pos - width for pos in x], series1, width, label='gidro')\n",
    "bar2 = ax.bar(x, series2, width, label='ochag')\n",
    "bar3 = ax.bar([pos + width for pos in x], series3, width, label='pnev')\n",
    "\n",
    "\n",
    "ax.set_xlabel('Врачи')\n",
    "ax.set_ylabel('Значения')\n",
    "ax.set_title('Значения по врачам')\n",
    "ax.set_xticks(x)\n",
    "ax.set_xticklabels(features)\n",
    "ax.legend()\n",
    "\n",
    "plt.show()"
   ]
  },
  {
   "cell_type": "markdown",
   "metadata": {
    "id": "yLTd0r83nNb5"
   },
   "source": [
    "2. Отберите худших врачей по каждой из патологий. Комментарий: Необходимо описать принцип отбора"
   ]
  },
  {
   "cell_type": "code",
   "execution_count": null,
   "metadata": {
    "id": "tzHJ-JBxC8ma"
   },
   "outputs": [],
   "source": [
    "# Удалим из выборок по 3 врача, которые имеют самые высокие показатели отклонения по усредненному прогнозу, который был расчитан ранее"
   ]
  },
  {
   "cell_type": "code",
   "execution_count": 89,
   "metadata": {
    "colab": {
     "base_uri": "https://localhost:8080/"
    },
    "id": "xz8UIIY2DGhU",
    "outputId": "15a304ab-5af2-4c57-e91c-6c82d47b1203"
   },
   "outputs": [
    {
     "data": {
      "text/plain": [
       "Врач№6    0.206848\n",
       "Врач№5    0.149266\n",
       "Врач№2    0.147869\n",
       "dtype: float64"
      ]
     },
     "execution_count": 89,
     "metadata": {},
     "output_type": "execute_result"
    }
   ],
   "source": [
    "mean_deviation_gidro.sort_values(ascending=False).head(3)"
   ]
  },
  {
   "cell_type": "code",
   "execution_count": 90,
   "metadata": {
    "colab": {
     "base_uri": "https://localhost:8080/"
    },
    "id": "Yt0M5_cPDdEO",
    "outputId": "b1cdc769-9cf7-4110-dc74-9eef98200065"
   },
   "outputs": [
    {
     "name": "stdout",
     "output_type": "stream",
     "text": [
      "     Врач№1  Врач№3  Врач№4  Врач№7  Врач№8  Врач№9  Врач№10  Врач№11  \\\n",
      "0         1       0       1       0       0       1        1        0   \n",
      "1         0       0       0       0       0       0        0        0   \n",
      "2         0       0       1       0       0       0        0        0   \n",
      "3         0       0       1       0       0       0        0        0   \n",
      "4         0       0       0       0       0       0        0        0   \n",
      "..      ...     ...     ...     ...     ...     ...      ...      ...   \n",
      "472       0       0       0       0       0       0        0        0   \n",
      "473       1       0       1       0       0       0        0        1   \n",
      "474       0       0       1       0       0       0        0        1   \n",
      "475       1       0       1       1       1       1        1        1   \n",
      "476       1       1       1       1       1       1        1        1   \n",
      "\n",
      "     Врач№12  Врач№13  Врач№14  Врач№15  \n",
      "0          1        1        1        1  \n",
      "1          0        0        0        0  \n",
      "2          0        1        1        1  \n",
      "3          0        1        1        1  \n",
      "4          0        0        0        0  \n",
      "..       ...      ...      ...      ...  \n",
      "472        0        0        0        0  \n",
      "473        1        0        1        1  \n",
      "474        1        0        1        1  \n",
      "475        1        0        1        1  \n",
      "476        1        1        1        1  \n",
      "\n",
      "[477 rows x 12 columns]\n"
     ]
    }
   ],
   "source": [
    "gidro = gidro.drop(columns ='mean_value', axis = 1)\n",
    "gidro = gidro.drop(columns ='Врач№6', axis = 1)\n",
    "gidro = gidro.drop(columns ='Врач№5', axis = 1)\n",
    "gidro = gidro.drop(columns ='Врач№2', axis = 1)\n",
    "print(gidro)"
   ]
  },
  {
   "cell_type": "code",
   "execution_count": 91,
   "metadata": {
    "colab": {
     "base_uri": "https://localhost:8080/"
    },
    "id": "ADdg_21NEOah",
    "outputId": "c57ab17f-9374-4cd1-b42b-b9dbe773a556"
   },
   "outputs": [
    {
     "data": {
      "text/plain": [
       "Врач№15    0.245702\n",
       "Врач№2     0.211880\n",
       "Врач№6     0.168553\n",
       "dtype: float64"
      ]
     },
     "execution_count": 91,
     "metadata": {},
     "output_type": "execute_result"
    }
   ],
   "source": [
    "mean_deviation_ochag.sort_values(ascending=False).head(3)"
   ]
  },
  {
   "cell_type": "code",
   "execution_count": 92,
   "metadata": {
    "colab": {
     "base_uri": "https://localhost:8080/"
    },
    "id": "HRQAI-Z0ER5U",
    "outputId": "98e22dca-4823-4ceb-abde-c70ce3f52ef1"
   },
   "outputs": [
    {
     "name": "stdout",
     "output_type": "stream",
     "text": [
      "     Врач№1  Врач№3  Врач№4  Врач№5  Врач№7  Врач№8  Врач№9  Врач№10  Врач№11  \\\n",
      "0         0       0       0       0       1       0       0        0        1   \n",
      "1         0       0       0       0       0       0       0        0        0   \n",
      "2         0       0       0       1       0       0       0        0        0   \n",
      "3         0       0       0       0       0       0       0        0        0   \n",
      "4         0       0       0       0       1       1       0        0        0   \n",
      "..      ...     ...     ...     ...     ...     ...     ...      ...      ...   \n",
      "472       0       0       0       0       0       0       0        0        0   \n",
      "473       0       0       1       0       0       0       0        1        0   \n",
      "474       0       0       0       0       0       0       0        0        0   \n",
      "475       0       0       0       0       0       0       0        0        0   \n",
      "476       0       0       1       0       0       0       0        0        0   \n",
      "\n",
      "     Врач№12  Врач№13  Врач№14  \n",
      "0          0        0        0  \n",
      "1          0        0        0  \n",
      "2          0        0        0  \n",
      "3          0        0        0  \n",
      "4          0        0        0  \n",
      "..       ...      ...      ...  \n",
      "472        0        0        0  \n",
      "473        1        0        0  \n",
      "474        0        0        0  \n",
      "475        0        0        0  \n",
      "476        0        0        0  \n",
      "\n",
      "[477 rows x 12 columns]\n"
     ]
    }
   ],
   "source": [
    "ochag = ochag.drop(columns ='mean_value', axis = 1)\n",
    "ochag = ochag.drop(columns ='Врач№15', axis = 1)\n",
    "ochag = ochag.drop(columns ='Врач№2', axis = 1)\n",
    "ochag = ochag.drop(columns ='Врач№6', axis = 1)\n",
    "print(ochag)"
   ]
  },
  {
   "cell_type": "code",
   "execution_count": 93,
   "metadata": {
    "colab": {
     "base_uri": "https://localhost:8080/"
    },
    "id": "B8zA0oQ6Ehng",
    "outputId": "685365c4-de2a-43eb-eb78-706d7f6125c9"
   },
   "outputs": [
    {
     "data": {
      "text/plain": [
       "Врач№12    0.210762\n",
       "Врач№8     0.192034\n",
       "Врач№11    0.190077\n",
       "dtype: float64"
      ]
     },
     "execution_count": 93,
     "metadata": {},
     "output_type": "execute_result"
    }
   ],
   "source": [
    "mean_deviation_pnev.sort_values(ascending=False).head(3)"
   ]
  },
  {
   "cell_type": "code",
   "execution_count": 94,
   "metadata": {
    "colab": {
     "base_uri": "https://localhost:8080/"
    },
    "id": "7XkFUkkfEnFn",
    "outputId": "bd07decc-a917-4b90-a8f4-3a5b87db1c3b"
   },
   "outputs": [
    {
     "name": "stdout",
     "output_type": "stream",
     "text": [
      "     Врач№1  Врач№2  Врач№3  Врач№4  Врач№5  Врач№6  Врач№7  Врач№9  Врач№10  \\\n",
      "0         0       0       0       0       1       0       0       1        0   \n",
      "1         0       0       0       0       1       0       0       0        0   \n",
      "2         1       0       0       0       0       0       0       0        0   \n",
      "3         0       0       0       0       0       0       0       0        0   \n",
      "4         0       0       0       0       1       0       0       1        0   \n",
      "..      ...     ...     ...     ...     ...     ...     ...     ...      ...   \n",
      "472       0       0       0       0       0       1       0       0        0   \n",
      "473       0       0       0       0       0       0       0       0        1   \n",
      "474       0       0       0       0       0       0       0       0        0   \n",
      "475       0       0       0       0       0       0       0       0        0   \n",
      "476       0       0       0       0       0       0       0       0        1   \n",
      "\n",
      "     Врач№13  Врач№14  Врач№15  \n",
      "0          0        1        0  \n",
      "1          0        0        0  \n",
      "2          0        0        0  \n",
      "3          0        0        0  \n",
      "4          0        0        0  \n",
      "..       ...      ...      ...  \n",
      "472        0        0        0  \n",
      "473        1        0        0  \n",
      "474        0        0        0  \n",
      "475        0        0        0  \n",
      "476        0        0        0  \n",
      "\n",
      "[477 rows x 12 columns]\n"
     ]
    }
   ],
   "source": [
    "pnev = pnev.drop(columns ='mean_value', axis = 1)\n",
    "pnev = pnev.drop(columns ='Врач№12', axis = 1)\n",
    "pnev = pnev.drop(columns ='Врач№8', axis = 1)\n",
    "pnev = pnev.drop(columns ='Врач№11', axis = 1)\n",
    "print(pnev)"
   ]
  },
  {
   "cell_type": "markdown",
   "metadata": {
    "id": "a93H7DXcnR9d"
   },
   "source": [
    "3. Сформируйте итоговую разметку (для каждого снимка только одно значение 0 или 1). А также уверенность в разметке каждого снимка. Комментарий: критерий уверенности в разметке предлагается выбрать самим"
   ]
  },
  {
   "cell_type": "code",
   "execution_count": 95,
   "metadata": {
    "id": "btLUIwbCE21N"
   },
   "outputs": [],
   "source": [
    "# Добавляем столбец target, который будет целевой переменной, указывающей на то, есть ли диагноз или нет\n",
    "gidro['target'] = (gidro.mean(axis=1) >= 0.5).astype(int)\n",
    "ochag['target'] = (ochag.mean(axis=1) >= 0.5).astype(int)\n",
    "pnev['target'] = (pnev.mean(axis=1) >= 0.5).astype(int)"
   ]
  },
  {
   "cell_type": "code",
   "execution_count": 96,
   "metadata": {
    "colab": {
     "base_uri": "https://localhost:8080/"
    },
    "id": "B0Q7Yq3GX4m0",
    "outputId": "a6bb430e-bfeb-4fda-aed4-9d77b808ef09"
   },
   "outputs": [
    {
     "data": {
      "text/plain": [
       "0      0.222222\n",
       "1      0.000000\n",
       "2      0.222222\n",
       "3      0.222222\n",
       "4      0.000000\n",
       "         ...   \n",
       "472    0.000000\n",
       "473    0.250000\n",
       "474    0.243056\n",
       "475    0.138889\n",
       "476    0.000000\n",
       "Length: 477, dtype: float64"
      ]
     },
     "execution_count": 96,
     "metadata": {},
     "output_type": "execute_result"
    }
   ],
   "source": [
    "(gidro.drop('target', axis=1).sum(axis=1)/12) * (1 - gidro.drop('target', axis=1).sum(axis=1)/12)"
   ]
  },
  {
   "cell_type": "code",
   "execution_count": 97,
   "metadata": {
    "id": "SWA7rRWzSwnJ"
   },
   "outputs": [],
   "source": [
    "# Добавим столбец jini в котором будет отражаться \"однородность\" ответов врачей на диагноз. То есть это можно воспринимать как уверенность\n",
    "gidro['jini'] = (gidro.drop('target', axis=1).sum(axis=1)/12) * (1 - gidro.drop('target', axis=1).sum(axis=1)/12)"
   ]
  },
  {
   "cell_type": "code",
   "execution_count": 98,
   "metadata": {
    "colab": {
     "base_uri": "https://localhost:8080/"
    },
    "id": "aXJIUSDmVekN",
    "outputId": "6cd9fdbe-7d9c-4020-b502-269e0df1e0d1"
   },
   "outputs": [
    {
     "data": {
      "text/plain": [
       "0.25"
      ]
     },
     "execution_count": 98,
     "metadata": {},
     "output_type": "execute_result"
    }
   ],
   "source": [
    "#Найдем максимальное значение джини\n",
    "gidro['jini'].max()"
   ]
  },
  {
   "cell_type": "code",
   "execution_count": 99,
   "metadata": {
    "colab": {
     "base_uri": "https://localhost:8080/"
    },
    "id": "0pqqZnJtZkLb",
    "outputId": "17cb263c-c92a-49e2-8cc0-187e4ebb4f11"
   },
   "outputs": [
    {
     "name": "stdout",
     "output_type": "stream",
     "text": [
      "     Врач№1  Врач№3  Врач№4  Врач№7  Врач№8  Врач№9  Врач№10  Врач№11  \\\n",
      "0         1       0       1       0       0       1        1        0   \n",
      "1         0       0       0       0       0       0        0        0   \n",
      "2         0       0       1       0       0       0        0        0   \n",
      "3         0       0       1       0       0       0        0        0   \n",
      "4         0       0       0       0       0       0        0        0   \n",
      "..      ...     ...     ...     ...     ...     ...      ...      ...   \n",
      "472       0       0       0       0       0       0        0        0   \n",
      "473       1       0       1       0       0       0        0        1   \n",
      "474       0       0       1       0       0       0        0        1   \n",
      "475       1       0       1       1       1       1        1        1   \n",
      "476       1       1       1       1       1       1        1        1   \n",
      "\n",
      "     Врач№12  Врач№13  Врач№14  Врач№15  target      jini  \n",
      "0          1        1        1        1       1  0.111111  \n",
      "1          0        0        0        0       0  1.000000  \n",
      "2          0        1        1        1       0  0.111111  \n",
      "3          0        1        1        1       0  0.111111  \n",
      "4          0        0        0        0       0  1.000000  \n",
      "..       ...      ...      ...      ...     ...       ...  \n",
      "472        0        0        0        0       0  1.000000  \n",
      "473        1        0        1        1       1  0.000000  \n",
      "474        1        0        1        1       0  0.027778  \n",
      "475        1        0        1        1       1  0.444444  \n",
      "476        1        1        1        1       1  1.000000  \n",
      "\n",
      "[477 rows x 14 columns]\n"
     ]
    }
   ],
   "source": [
    "#Отнормируем значение Джини согласно двум критериям: 1. Нормализация значений (диапозон от 0 до 1) 2. Чем выше значение - тем выше уверенность в прогнозе\n",
    "gidro['jini'] = 1 - 4*gidro['jini']\n",
    "print(gidro)"
   ]
  },
  {
   "cell_type": "code",
   "execution_count": null,
   "metadata": {
    "id": "Tyyt43ZvUm3S"
   },
   "outputs": [],
   "source": [
    "# Делаем аналогичные шаги для ochag и pnev\n"
   ]
  },
  {
   "cell_type": "code",
   "execution_count": 100,
   "metadata": {
    "colab": {
     "base_uri": "https://localhost:8080/"
    },
    "id": "6vX3fCoqUucK",
    "outputId": "8ff6a612-9d8b-49c9-fe09-6e1a0425ce2c"
   },
   "outputs": [
    {
     "data": {
      "text/plain": [
       "0.25"
      ]
     },
     "execution_count": 100,
     "metadata": {},
     "output_type": "execute_result"
    }
   ],
   "source": [
    "ochag['jini'] = (ochag.drop('target', axis=1).sum(axis=1)/12) * (1 - ochag.drop('target', axis=1).sum(axis=1)/12)\n",
    "ochag['jini'].max()"
   ]
  },
  {
   "cell_type": "code",
   "execution_count": 101,
   "metadata": {
    "colab": {
     "base_uri": "https://localhost:8080/"
    },
    "id": "U9sIvFvuU6hG",
    "outputId": "dd3c0fbd-116e-4d9e-fd35-3723524857b6"
   },
   "outputs": [
    {
     "name": "stdout",
     "output_type": "stream",
     "text": [
      "     Врач№1  Врач№3  Врач№4  Врач№5  Врач№7  Врач№8  Врач№9  Врач№10  Врач№11  \\\n",
      "0         0       0       0       0       1       0       0        0        1   \n",
      "1         0       0       0       0       0       0       0        0        0   \n",
      "2         0       0       0       1       0       0       0        0        0   \n",
      "3         0       0       0       0       0       0       0        0        0   \n",
      "4         0       0       0       0       1       1       0        0        0   \n",
      "..      ...     ...     ...     ...     ...     ...     ...      ...      ...   \n",
      "472       0       0       0       0       0       0       0        0        0   \n",
      "473       0       0       1       0       0       0       0        1        0   \n",
      "474       0       0       0       0       0       0       0        0        0   \n",
      "475       0       0       0       0       0       0       0        0        0   \n",
      "476       0       0       1       0       0       0       0        0        0   \n",
      "\n",
      "     Врач№12  Врач№13  Врач№14  target      jini  \n",
      "0          0        0        0       0  0.444444  \n",
      "1          0        0        0       0  1.000000  \n",
      "2          0        0        0       0  0.694444  \n",
      "3          0        0        0       0  1.000000  \n",
      "4          0        0        0       0  0.444444  \n",
      "..       ...      ...      ...     ...       ...  \n",
      "472        0        0        0       0  1.000000  \n",
      "473        1        0        0       0  0.250000  \n",
      "474        0        0        0       0  1.000000  \n",
      "475        0        0        0       0  1.000000  \n",
      "476        0        0        0       0  0.694444  \n",
      "\n",
      "[477 rows x 14 columns]\n"
     ]
    }
   ],
   "source": [
    "ochag['jini'] = 1 - 4*ochag['jini']\n",
    "print(ochag)"
   ]
  },
  {
   "cell_type": "code",
   "execution_count": 102,
   "metadata": {
    "colab": {
     "base_uri": "https://localhost:8080/"
    },
    "id": "47jy2bSHVERW",
    "outputId": "c7173c0b-58fa-44cf-aad0-5683cf430ad9"
   },
   "outputs": [
    {
     "data": {
      "text/plain": [
       "0.25"
      ]
     },
     "execution_count": 102,
     "metadata": {},
     "output_type": "execute_result"
    }
   ],
   "source": [
    "pnev['jini'] = (pnev.drop('target', axis=1).sum(axis=1)/12) * (1 - pnev.drop('target', axis=1).sum(axis=1)/12)\n",
    "pnev['jini'].max()"
   ]
  },
  {
   "cell_type": "code",
   "execution_count": 103,
   "metadata": {
    "colab": {
     "base_uri": "https://localhost:8080/"
    },
    "id": "sZNkTwXLVMCi",
    "outputId": "97f3eb16-3ac6-4380-d709-15acb437303e"
   },
   "outputs": [
    {
     "name": "stdout",
     "output_type": "stream",
     "text": [
      "     Врач№1  Врач№2  Врач№3  Врач№4  Врач№5  Врач№6  Врач№7  Врач№9  Врач№10  \\\n",
      "0         0       0       0       0       1       0       0       1        0   \n",
      "1         0       0       0       0       1       0       0       0        0   \n",
      "2         1       0       0       0       0       0       0       0        0   \n",
      "3         0       0       0       0       0       0       0       0        0   \n",
      "4         0       0       0       0       1       0       0       1        0   \n",
      "..      ...     ...     ...     ...     ...     ...     ...     ...      ...   \n",
      "472       0       0       0       0       0       1       0       0        0   \n",
      "473       0       0       0       0       0       0       0       0        1   \n",
      "474       0       0       0       0       0       0       0       0        0   \n",
      "475       0       0       0       0       0       0       0       0        0   \n",
      "476       0       0       0       0       0       0       0       0        1   \n",
      "\n",
      "     Врач№13  Врач№14  Врач№15  target      jini  \n",
      "0          0        1        0       0  0.250000  \n",
      "1          0        0        0       0  0.694444  \n",
      "2          0        0        0       0  0.694444  \n",
      "3          0        0        0       0  1.000000  \n",
      "4          0        0        0       0  0.444444  \n",
      "..       ...      ...      ...     ...       ...  \n",
      "472        0        0        0       0  0.694444  \n",
      "473        1        0        0       0  0.444444  \n",
      "474        0        0        0       0  1.000000  \n",
      "475        0        0        0       0  1.000000  \n",
      "476        0        0        0       0  0.694444  \n",
      "\n",
      "[477 rows x 14 columns]\n"
     ]
    }
   ],
   "source": [
    "pnev['jini'] = 1 - 4*pnev['jini']\n",
    "print(pnev)"
   ]
  },
  {
   "cell_type": "markdown",
   "metadata": {
    "id": "AK6vfWMnnUwY"
   },
   "source": [
    "4. Оцените итоговое качество разметки по каждой из патологий. Комментарий: необходимо получить численную оценку, а также можно привести комментарии с доводами о качестве разметки"
   ]
  },
  {
   "cell_type": "markdown",
   "metadata": {
    "id": "jogvSzPHUIIQ"
   },
   "source": [
    "Для задачи классификации можно использовать \"классические\" метрики: accurancy, precision, recall, f1-score. Сначала импортируем необходимые библиотеки  "
   ]
  },
  {
   "cell_type": "code",
   "execution_count": 104,
   "metadata": {
    "id": "gTPmLn2AUaBm"
   },
   "outputs": [],
   "source": [
    "#Импорт необходимых библиотек\n",
    "\n",
    "from sklearn.metrics import accuracy_score, precision_score, recall_score, f1_score"
   ]
  },
  {
   "cell_type": "code",
   "execution_count": 105,
   "metadata": {
    "id": "jnjfb8JgUgOz"
   },
   "outputs": [],
   "source": [
    "#Для оценки качества разметки выделяем из датасета столбцы таргета и джини. Делаем все сначала для gidro\n",
    "y_true = gidro['target']\n",
    "jini = gidro['jini']\n",
    "predictions = gidro.drop(columns=['target', 'jini'])"
   ]
  },
  {
   "cell_type": "code",
   "execution_count": 106,
   "metadata": {
    "id": "rmpHhszAV6hj"
   },
   "outputs": [],
   "source": [
    "#Создадим  DataFrame для сохранения оценок качества\n",
    "metrics_gidro = pd.DataFrame(columns=['pathology', 'accuracy', 'precision', 'recall', 'f1'])"
   ]
  },
  {
   "cell_type": "code",
   "execution_count": 107,
   "metadata": {
    "colab": {
     "base_uri": "https://localhost:8080/"
    },
    "id": "3L_d_QRFWctF",
    "outputId": "deba9655-ba85-46ed-e197-a4bccef55872"
   },
   "outputs": [
    {
     "name": "stdout",
     "output_type": "stream",
     "text": [
      "   pathology  accuracy  precision    recall        f1\n",
      "0     Врач№1  0.943396   0.842105  0.727273  0.780488\n",
      "1     Врач№3  0.909853   0.960000  0.363636  0.527473\n",
      "2     Врач№4  0.937107   0.691489  0.984848  0.812500\n",
      "3     Врач№7  0.930818   0.811321  0.651515  0.722689\n",
      "4     Врач№8  0.897275   0.774194  0.363636  0.494845\n",
      "5     Врач№9  0.905660   0.629630  0.772727  0.693878\n",
      "6    Врач№10  0.930818   0.720000  0.818182  0.765957\n",
      "7    Врач№11  0.926625   0.844444  0.575758  0.684685\n",
      "8    Врач№12  0.953878   0.775000  0.939394  0.849315\n",
      "9    Врач№13  0.935010   0.733333  0.833333  0.780142\n",
      "10   Врач№14  0.949686   0.776316  0.893939  0.830986\n",
      "11   Врач№15  0.932914   0.693182  0.924242  0.792208\n"
     ]
    }
   ],
   "source": [
    "# Зададим через цикл вычисления метрик\n",
    "\n",
    "for col in predictions.columns:\n",
    "    y_pred = predictions[col]\n",
    "    accuracy = accuracy_score(y_true, y_pred)\n",
    "    precision = precision_score(y_true, y_pred)\n",
    "    recall = recall_score(y_true, y_pred)\n",
    "    f1 = f1_score(y_true, y_pred)\n",
    "\n",
    "    # Добавляем метрики в DataFrame\n",
    "    pathology_metrics = {\n",
    "        'pathology': col,\n",
    "        'accuracy': accuracy,\n",
    "        'precision': precision,\n",
    "        'recall': recall,\n",
    "        'f1': f1,\n",
    "    }\n",
    "    metrics_gidro = metrics_gidro._append(pathology_metrics, ignore_index=True)\n",
    "\n",
    "\n",
    "print(metrics_gidro)"
   ]
  },
  {
   "cell_type": "code",
   "execution_count": 108,
   "metadata": {
    "colab": {
     "base_uri": "https://localhost:8080/"
    },
    "id": "rXgiqMn_Wxl4",
    "outputId": "a908c4a8-29e3-4d3b-f2b4-cf3e02d64b4b"
   },
   "outputs": [
    {
     "name": "stdout",
     "output_type": "stream",
     "text": [
      "Средние значения метрик: accuracy     0.929420\n",
      "precision    0.770918\n",
      "recall       0.737374\n",
      "f1           0.727930\n",
      "dtype: float64\n"
     ]
    }
   ],
   "source": [
    "# Расчет среднего значения для всех метрик\n",
    "avg_metrics_gidro = metrics_gidro.drop('pathology', axis=1).mean(axis=0)\n",
    "print(\"Средние значения метрик:\", avg_metrics_gidro)"
   ]
  },
  {
   "cell_type": "markdown",
   "metadata": {
    "id": "4iLjXwO8a35e"
   },
   "source": [
    "Проведем аналогичные операции для Очага и Снижения пневматизации"
   ]
  },
  {
   "cell_type": "code",
   "execution_count": 109,
   "metadata": {
    "colab": {
     "base_uri": "https://localhost:8080/"
    },
    "id": "Xgogddkza83J",
    "outputId": "d94d0a3f-7f39-4f81-82ca-18ea4993c0d1"
   },
   "outputs": [
    {
     "name": "stdout",
     "output_type": "stream",
     "text": [
      "   pathology  accuracy  precision  recall        f1\n",
      "0     Врач№1  0.926625   0.400000    0.80  0.533333\n",
      "1     Врач№3  0.972746   0.730769    0.76  0.745098\n",
      "2     Врач№4  0.888889   0.258621    0.60  0.361446\n",
      "3     Врач№5  0.949686   0.518519    0.56  0.538462\n",
      "4     Врач№7  0.901468   0.316667    0.76  0.447059\n",
      "5     Врач№8  0.903564   0.137931    0.16  0.148148\n",
      "6     Врач№9  0.947589   0.500000    0.76  0.603175\n",
      "7    Врач№10  0.918239   0.354167    0.68  0.465753\n",
      "8    Врач№11  0.937107   0.424242    0.56  0.482759\n",
      "9    Врач№12  0.888889   0.300000    0.84  0.442105\n",
      "10   Врач№13  0.955975   0.571429    0.64  0.603774\n",
      "11   Врач№14  0.937107   0.435897    0.68  0.531250\n"
     ]
    }
   ],
   "source": [
    "y_true = ochag['target']\n",
    "jini = ochag['jini']\n",
    "predictions = ochag.drop(columns=['target', 'jini'])\n",
    "#Создадим  DataFrame для сохранения оценок качества\n",
    "metrics_ochag = pd.DataFrame(columns=['pathology', 'accuracy', 'precision', 'recall', 'f1'])\n",
    "\n",
    "for col in predictions.columns:\n",
    "    y_pred = predictions[col]\n",
    "    accuracy = accuracy_score(y_true, y_pred)\n",
    "    precision = precision_score(y_true, y_pred)\n",
    "    recall = recall_score(y_true, y_pred)\n",
    "    f1 = f1_score(y_true, y_pred)\n",
    "\n",
    "    # Добавляем метрики в DataFrame\n",
    "    pathology_metrics = {\n",
    "        'pathology': col,\n",
    "        'accuracy': accuracy,\n",
    "        'precision': precision,\n",
    "        'recall': recall,\n",
    "        'f1': f1,\n",
    "    }\n",
    "    metrics_ochag = metrics_ochag._append(pathology_metrics, ignore_index=True)\n",
    "\n",
    "\n",
    "print(metrics_ochag)"
   ]
  },
  {
   "cell_type": "code",
   "execution_count": 110,
   "metadata": {
    "colab": {
     "base_uri": "https://localhost:8080/"
    },
    "id": "4_-j93VhbRd6",
    "outputId": "dca7518f-52f6-402a-801d-7daaf6fa264c"
   },
   "outputs": [
    {
     "name": "stdout",
     "output_type": "stream",
     "text": [
      "Средние значения метрик: accuracy     0.927324\n",
      "precision    0.412353\n",
      "recall       0.650000\n",
      "f1           0.491863\n",
      "dtype: float64\n"
     ]
    }
   ],
   "source": [
    "# Расчет среднего значения для всех метрик\n",
    "avg_metrics_ochag = metrics_ochag.drop('pathology', axis=1).mean(axis=0)\n",
    "print(\"Средние значения метрик:\", avg_metrics_ochag)"
   ]
  },
  {
   "cell_type": "code",
   "execution_count": 111,
   "metadata": {
    "colab": {
     "base_uri": "https://localhost:8080/"
    },
    "id": "3VfMrC0dbcg8",
    "outputId": "065c5d46-732c-4d4a-9ae1-9548ab536a46"
   },
   "outputs": [
    {
     "name": "stdout",
     "output_type": "stream",
     "text": [
      "   pathology  accuracy  precision    recall        f1\n",
      "0     Врач№1  0.914046   0.666667  0.738462  0.700730\n",
      "1     Врач№2  0.911950   0.794872  0.476923  0.596154\n",
      "2     Врач№3  0.895178   0.647059  0.507692  0.568966\n",
      "3     Врач№4  0.897275   0.621212  0.630769  0.625954\n",
      "4     Врач№5  0.914046   0.687500  0.676923  0.682171\n",
      "5     Врач№6  0.857442   0.488372  0.969231  0.649485\n",
      "6     Врач№7  0.872117   0.571429  0.246154  0.344086\n",
      "7     Врач№9  0.903564   0.617284  0.769231  0.684932\n",
      "8    Врач№10  0.888889   0.568182  0.769231  0.653595\n",
      "9    Врач№13  0.872117   0.516949  0.938462  0.666667\n",
      "10   Врач№14  0.893082   0.576087  0.815385  0.675159\n",
      "11   Врач№15  0.909853   0.750000  0.507692  0.605505\n"
     ]
    }
   ],
   "source": [
    "y_true = pnev['target']\n",
    "jini = pnev['jini']\n",
    "predictions = pnev.drop(columns=['target', 'jini'])\n",
    "#Создадим  DataFrame для сохранения оценок качества\n",
    "metrics_pnev = pd.DataFrame(columns=['pathology', 'accuracy', 'precision', 'recall', 'f1'])\n",
    "\n",
    "for col in predictions.columns:\n",
    "    y_pred = predictions[col]\n",
    "    accuracy = accuracy_score(y_true, y_pred)\n",
    "    precision = precision_score(y_true, y_pred)\n",
    "    recall = recall_score(y_true, y_pred)\n",
    "    f1 = f1_score(y_true, y_pred)\n",
    "\n",
    "    # Добавляем метрики в DataFrame\n",
    "    pathology_metrics = {\n",
    "        'pathology': col,\n",
    "        'accuracy': accuracy,\n",
    "        'precision': precision,\n",
    "        'recall': recall,\n",
    "        'f1': f1,\n",
    "    }\n",
    "    metrics_pnev = metrics_pnev._append(pathology_metrics, ignore_index=True)\n",
    "\n",
    "\n",
    "print(metrics_pnev)"
   ]
  },
  {
   "cell_type": "code",
   "execution_count": 112,
   "metadata": {
    "colab": {
     "base_uri": "https://localhost:8080/"
    },
    "id": "tBiqccKpbnKo",
    "outputId": "ecc1a9c6-3ba7-428a-e59a-2495468fc20f"
   },
   "outputs": [
    {
     "name": "stdout",
     "output_type": "stream",
     "text": [
      "Средние значения метрик: accuracy     0.894130\n",
      "precision    0.625468\n",
      "recall       0.670513\n",
      "f1           0.621117\n",
      "dtype: float64\n"
     ]
    }
   ],
   "source": [
    "# Расчет среднего значения для всех метрик\n",
    "avg_metrics_pnev = metrics_pnev.drop('pathology', axis=1).mean(axis=0)\n",
    "print(\"Средние значения метрик:\", avg_metrics_pnev)"
   ]
  },
  {
   "cell_type": "markdown",
   "metadata": {
    "id": "xXq5C1oUby0g"
   },
   "source": [
    "ВЫВОДЫ:\n",
    "1. Хорошего качества разметка получилась только в случае Гидроторакса, при нем получается высокие precision и recall вместе с f1-score\n",
    "2. Разметка Очага показывает очень низкое качество precision, что дает нам понять, что страдает точность модели (она причисляет слишком много обьектов другого класса к целевому). Однако то что полнота(recall) выше обнадеживает, поскольку в случае, если у нас стоит задача найти все потологии в выборке, то скорее она будет решена, хоть и с большим количеством ложных срабатываний.\n",
    "3. Для разметки Снижения Пневматизации так же верны рассуждения про большее значение recall относительно precision. Но для нее качество разметки допустимое, то есть 2/3 всех потологий выявляется и при этом точность модели 62%.\n",
    "4. Accuracy не дает полной картины по поводу качества модели, поскольку она плохо работает в случае дисбаланса классов\n",
    "5. Можно пытаться поработать над улучшением качества recall, поскольку нам необходимо выявлять все имеющиеся снимки с потологиями, поэтому можно предложить убрать из выборки врачей с низким значением recall(например recall<0.5), если же мы хотим получить сбалансированную выборку с относительно высокими recall и precision, то лучше убирать из выборки врачей с низкими f1-score.\n",
    "6. Так же в качестве одной из мер можно установить порог для recall где в выборке будут участвовать только те врачи, чьи значения recall выше определенного порога."
   ]
  },
  {
   "cell_type": "code",
   "execution_count": null,
   "metadata": {
    "id": "45dqq2Bghxzo"
   },
   "outputs": [],
   "source": [
    "#Для ochag и pnev выделяется по одному врачу с очень низкими recall. Посмотрим что будет, если их убрать из выборки"
   ]
  },
  {
   "cell_type": "code",
   "execution_count": 114,
   "metadata": {
    "colab": {
     "base_uri": "https://localhost:8080/"
    },
    "id": "xtXy9Z9LiCuT",
    "outputId": "bc92af7e-2008-424e-82a6-ff0758da0294"
   },
   "outputs": [
    {
     "name": "stdout",
     "output_type": "stream",
     "text": [
      "Средние значения метрик: accuracy     0.929484\n",
      "precision    0.437301\n",
      "recall       0.694545\n",
      "f1           0.523110\n",
      "dtype: float64\n"
     ]
    }
   ],
   "source": [
    "#Для Очага\n",
    "\n",
    "ochag = ochag.drop(columns ='Врач№8', axis = 1)\n",
    "ochag['target'] = (ochag.mean(axis=1) >= 0.5).astype(int)\n",
    "\n",
    "y_true = ochag['target']\n",
    "jini = ochag['jini']\n",
    "predictions = ochag.drop(columns=['target', 'jini'])\n",
    "#Создадим  DataFrame для сохранения оценок качества\n",
    "metrics_ochag = pd.DataFrame(columns=['pathology', 'accuracy', 'precision', 'recall', 'f1'])\n",
    "\n",
    "for col in predictions.columns:\n",
    "    y_pred = predictions[col]\n",
    "    accuracy = accuracy_score(y_true, y_pred)\n",
    "    precision = precision_score(y_true, y_pred)\n",
    "    recall = recall_score(y_true, y_pred)\n",
    "    f1 = f1_score(y_true, y_pred)\n",
    "\n",
    "    # Добавляем метрики в DataFrame\n",
    "    pathology_metrics = {\n",
    "        'pathology': col,\n",
    "        'accuracy': accuracy,\n",
    "        'precision': precision,\n",
    "        'recall': recall,\n",
    "        'f1': f1,\n",
    "    }\n",
    "    metrics_ochag = metrics_ochag._append(pathology_metrics, ignore_index=True)\n",
    "\n",
    "\n",
    "avg_metrics_ochag = metrics_ochag.drop('pathology', axis=1).mean(axis=0)\n",
    "print(\"Средние значения метрик:\", avg_metrics_ochag)"
   ]
  },
  {
   "cell_type": "markdown",
   "metadata": {
    "id": "kJQzxU_lirSG"
   },
   "source": [
    "Мы видим, что качество стало лучше на 4.5% за счет вытеснения всего одного \"плохого\" врача. Так же улучшились показатели precision и f1-score\n"
   ]
  },
  {
   "cell_type": "code",
   "execution_count": 115,
   "metadata": {
    "colab": {
     "base_uri": "https://localhost:8080/"
    },
    "id": "G6AUzBsxiyPQ",
    "outputId": "d374fdbe-8116-4973-e87e-aa3482b77b2e"
   },
   "outputs": [
    {
     "name": "stdout",
     "output_type": "stream",
     "text": [
      "Средние значения метрик: accuracy     0.896131\n",
      "precision    0.630380\n",
      "recall       0.709091\n",
      "f1           0.646301\n",
      "dtype: float64\n"
     ]
    }
   ],
   "source": [
    "# Для снижения пневматизации\n",
    "pnev = pnev.drop(columns ='Врач№7', axis = 1)\n",
    "pnev['target'] = (pnev.mean(axis=1) >= 0.5).astype(int)\n",
    "\n",
    "y_true = pnev['target']\n",
    "jini = pnev['jini']\n",
    "predictions = pnev.drop(columns=['target', 'jini'])\n",
    "#Создадим  DataFrame для сохранения оценок качества\n",
    "metrics_pnev = pd.DataFrame(columns=['pathology', 'accuracy', 'precision', 'recall', 'f1'])\n",
    "\n",
    "for col in predictions.columns:\n",
    "    y_pred = predictions[col]\n",
    "    accuracy = accuracy_score(y_true, y_pred)\n",
    "    precision = precision_score(y_true, y_pred)\n",
    "    recall = recall_score(y_true, y_pred)\n",
    "    f1 = f1_score(y_true, y_pred)\n",
    "\n",
    "    # Добавляем метрики в DataFrame\n",
    "    pathology_metrics = {\n",
    "        'pathology': col,\n",
    "        'accuracy': accuracy,\n",
    "        'precision': precision,\n",
    "        'recall': recall,\n",
    "        'f1': f1,\n",
    "    }\n",
    "    metrics_pnev = metrics_pnev._append(pathology_metrics, ignore_index=True)\n",
    "\n",
    "# Расчет среднего значения для всех метрик\n",
    "avg_metrics_pnev = metrics_pnev.drop('pathology', axis=1).mean(axis=0)\n",
    "print(\"Средние значения метрик:\", avg_metrics_pnev)"
   ]
  },
  {
   "cell_type": "markdown",
   "metadata": {
    "id": "IhVJm8VijI0h"
   },
   "source": [
    "В случае со снижением пневматизации за счет вытеснения одного врача удалось добиться увеличения recall на 3.9%\n",
    "Так же улучшились показатели precision и f1-score\n"
   ]
  }
 ],
 "metadata": {
  "colab": {
   "provenance": []
  },
  "kernelspec": {
   "display_name": "Python 3 (ipykernel)",
   "language": "python",
   "name": "python3"
  },
  "language_info": {
   "codemirror_mode": {
    "name": "ipython",
    "version": 3
   },
   "file_extension": ".py",
   "mimetype": "text/x-python",
   "name": "python",
   "nbconvert_exporter": "python",
   "pygments_lexer": "ipython3",
   "version": "3.10.6"
  }
 },
 "nbformat": 4,
 "nbformat_minor": 4
}
